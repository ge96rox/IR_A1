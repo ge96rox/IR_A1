{
 "cells": [
  {
   "cell_type": "markdown",
   "id": "b73947ea",
   "metadata": {},
   "source": [
    "# Assingment 1"
   ]
  },
  {
   "cell_type": "markdown",
   "id": "8f2bef82",
   "metadata": {},
   "source": [
    "**Group5** Member | MatriculationNr |\n",
    ":-|:-:|\n",
    "Longtao Liu|03738240|"
   ]
  },
  {
   "cell_type": "markdown",
   "id": "bcddc60b",
   "metadata": {},
   "source": [
    "## Task 1.1"
   ]
  },
  {
   "cell_type": "markdown",
   "id": "f7fdaea9",
   "metadata": {},
   "source": [
    "Let $$ C_{d} = \\{x \\in \\mathbb{R}^{p} | || x ||_{\\infty} < d/2\\}$$\n",
    "denote the p-dimensional hypercube of edge length d, centered at the origin."
   ]
  },
  {
   "cell_type": "markdown",
   "id": "bc24e5b7",
   "metadata": {},
   "source": [
    "Assume X to be uniformly distributed in C1. Determine d in dependence of p\n",
    "and $ q \\in [0, 1]$ such that\n",
    "$Pr(X \\in C_{d}) = q$\n",
    "holds."
   ]
  },
  {
   "cell_type": "markdown",
   "id": "52b43b1f",
   "metadata": {},
   "source": [
    "### Solution"
   ]
  },
  {
   "cell_type": "markdown",
   "id": "4a6bd5c5",
   "metadata": {},
   "source": [
    "The volume equation for $C_{d}$, the p-dimensional hypercube of edge length d is $$ V_{Cd} = d^{p} $$\n",
    "Therefore $C_{1}$'s volume is $$ V_{C1} = 1^{p} = 1 $$\n",
    "Now the probability of $Pr(X \\in C_{d})$ can be discussed with 2 different situatio depending on d.\n",
    "\n",
    "When $d>=1$, $ C_{1}$ is inside $C_{d}$ and X is uniformly distributed completely inside $ C_{d}$ , hence: $$Pr(X \\in C_{d}) = q = 1$$ \n",
    "Then d is independent of p and q and >= 1.\n",
    "\n",
    "When $d<1$, $ C_{d}$ is inside $C_{1}$ and X is uniformly distributed inside and outside $ C_{d}$ , hence: $$Pr(X \\in C_{d}) = q = \\frac{V_{Cd}}{V_{C1}}$$ \n",
    "$$ q = \\frac{d^{p}}{1} = d^{p} $$\n",
    "Hence we get\n",
    "$$ d = \\sqrt[p]{q}$$\n",
    "\n"
   ]
  },
  {
   "cell_type": "markdown",
   "id": "be6ed448",
   "metadata": {},
   "source": [
    "## Task 1.2"
   ]
  },
  {
   "cell_type": "markdown",
   "id": "be64cf3b",
   "metadata": {},
   "source": [
    "Let the components of the p-dimensional random variable Xp be independent and\n",
    "have the standard normal distribution. It is known that $Pr(|X^{1}| <=  2.576) = 0.99$.\n",
    "\n",
    "For an arbitrary p, determine the probability $Pr(|| X^{p} ||_{\\infty} > 2.576)$ for any of the\n",
    "components of $X^{p} $ to lie outside of the interval $[-2.576, 2.576]$. Evaluate the value\n",
    "for p = 2, p = 3 and p = 500."
   ]
  },
  {
   "cell_type": "markdown",
   "id": "b35ba305",
   "metadata": {},
   "source": [
    "### Solution"
   ]
  },
  {
   "cell_type": "markdown",
   "id": "2ee16966",
   "metadata": {},
   "source": [
    "$$Pr(|| X^{p} ||_{\\infty} > 2.576) =  1 - Pr(|| X^{p} ||_{\\infty} <= 2.576)$$\n",
    "\n",
    "Since components of $X^{p}$ are independent.\n",
    "$$Pr(|| X^{p} ||_{\\infty} <= 2.576) = Pr(|X^{1}| <=  2.576)^{p} = (0.99)^{p} $$\n",
    "\n",
    "Therefore,\n",
    "$$Pr(|| X^{p} ||_{\\infty} > 2.576) =  1 - Pr(|| X^{p} ||_{\\infty} <= 2.576) = 1 - (0.99)^p$$"
   ]
  },
  {
   "cell_type": "markdown",
   "id": "29bd8bb7",
   "metadata": {},
   "source": [
    "When p = 2, $Pr(|| X^{2} ||_{\\infty} > 2.576) = 1 - (0.99)^2 = 0.0199$\n",
    "\n",
    "When p = 3, $Pr(|| X^{3} ||_{\\infty} > 2.576) = 1 - (0.99)^3 = 0.0297$\n",
    "\n",
    "When p = 500, $Pr(|| X^{500} ||_{\\infty} > 2.576) = 1 - (0.99)^500 = 0.9934$"
   ]
  },
  {
   "cell_type": "markdown",
   "id": "46428261",
   "metadata": {},
   "source": [
    "## Task 2.1"
   ]
  },
  {
   "cell_type": "markdown",
   "id": "d2155566",
   "metadata": {},
   "source": [
    "Sample 100 uniformly distributed random vectors from the box $[-1, 1]^{d}$ for d = 2."
   ]
  },
  {
   "cell_type": "code",
   "execution_count": 1,
   "id": "bab89991",
   "metadata": {},
   "outputs": [],
   "source": [
    "import numpy as np\n",
    "import matplotlib.pyplot as plt\n",
    "\n",
    "%matplotlib inline"
   ]
  },
  {
   "cell_type": "code",
   "execution_count": 2,
   "id": "cdff0289",
   "metadata": {},
   "outputs": [],
   "source": [
    "def sample(n,d):\n",
    "    '''return n uniformly distributed random vectors from the box [−1,1]^d '''\n",
    "    return np.random.random((n, d)) * 2 - 1\n",
    "\n",
    "d = 2      # dimensions\n",
    "n = 100    # samples\n",
    "\n",
    "x = sample(n, d)"
   ]
  },
  {
   "cell_type": "markdown",
   "id": "782e563e",
   "metadata": {},
   "source": [
    "## Task 2.2"
   ]
  },
  {
   "cell_type": "markdown",
   "id": "1d5890ea",
   "metadata": {},
   "source": [
    "For each of the 100 vectors determine the minimum angle to all other vectors.\n",
    "Then compute the average of these minimum angles."
   ]
  },
  {
   "cell_type": "code",
   "execution_count": 3,
   "id": "706948e5",
   "metadata": {},
   "outputs": [],
   "source": [
    "def angle_between(v1,v2):\n",
    "    '''return angle between 2 vectors, i.e. arccos(<x, y>/(|x|*|y|))'''\n",
    "    \n",
    "    #unit vector\n",
    "    v1_u = v1 / np.linalg.norm(v1)\n",
    "    v2_u = v2 / np.linalg.norm(v2)\n",
    "    \n",
    "    return np.arccos(np.clip(np.dot(v1_u, v2_u), -1.0, 1.0))"
   ]
  },
  {
   "cell_type": "code",
   "execution_count": 4,
   "id": "1700a591",
   "metadata": {},
   "outputs": [],
   "source": [
    "def avg_min_angle(x):\n",
    "    '''return average of the minimum angle between each vector and all other vectors'''\n",
    "    \n",
    "    n, d = x.shape\n",
    "    min_angles = np.zeros(n)\n",
    "    \n",
    "    #find min angle for eavh vector in x\n",
    "    for i, v1 in enumerate(x):\n",
    "        min_angle = 2*(np.pi) #max possible angle\n",
    "        for j, v2 in enumerate(x):\n",
    "            if (j != i): #avoid angle with itself\n",
    "                angle = angle_between(v1,v2)\n",
    "                if (angle < min_angle):\n",
    "                    min_angle = angle\n",
    "        min_angles[i] =  min_angle\n",
    "    \n",
    "    #return avg\n",
    "    return np.average(min_angles)\n",
    "        "
   ]
  },
  {
   "cell_type": "code",
   "execution_count": 10,
   "id": "c6a91aaa",
   "metadata": {},
   "outputs": [
    {
     "name": "stdout",
     "output_type": "stream",
     "text": [
      "Average of the minimum angle for each vector in X is 0.031075912874770052\n"
     ]
    }
   ],
   "source": [
    "print(\"Average of the minimum angle for each vector in X is \" + str(avg_min_angle(x)))"
   ]
  },
  {
   "cell_type": "markdown",
   "id": "b9c7c83c",
   "metadata": {},
   "source": [
    "## Task 2.3"
   ]
  },
  {
   "cell_type": "markdown",
   "id": "64469cc5",
   "metadata": {},
   "source": [
    "Repeat the above for dimensions d = 1 to 1000 and use the results to plot the average minimum angle against the dimension."
   ]
  },
  {
   "cell_type": "code",
   "execution_count": 6,
   "id": "4b97f787",
   "metadata": {},
   "outputs": [],
   "source": [
    "def plot_minang_dim(d_list,n):\n",
    "    '''plot average minimum angle against the dimension for different d'''\n",
    "    \n",
    "    #compute average min angle list for each d\n",
    "    min_angles = np.zeros(d_list.shape[0])\n",
    "    for i, d in enumerate(d_list):\n",
    "        min_angles[i] = avg_min_angle(sample(n, d))\n",
    "    \n",
    "    #plot\n",
    "    plt.plot(d_list, min_angles)\n",
    "    plt.xlabel('Dimension d')\n",
    "    plt.ylabel('Average Minimum Angle')\n",
    "    plt.title('Average Minimum Angle against Dimension')\n",
    "    plt.grid()"
   ]
  },
  {
   "cell_type": "code",
   "execution_count": 7,
   "id": "68db3927",
   "metadata": {},
   "outputs": [
    {
     "data": {
      "image/png": "[encoded data removed]",
      "text/plain": [
       "<Figure size 432x288 with 1 Axes>"
      ]
     },
     "metadata": {
      "needs_background": "light"
     },
     "output_type": "display_data"
    }
   ],
   "source": [
    "d_list = np.arange(1, 1001) # d = 1 to 1000\n",
    "n = 100\n",
    "plot_minang_dim(d_list,n)"
   ]
  },
  {
   "cell_type": "code",
   "execution_count": null,
   "id": "dfbad696",
   "metadata": {},
   "outputs": [],
   "source": []
  }
 ],
 "metadata": {
  "kernelspec": {
   "display_name": "Python 3",
   "language": "python",
   "name": "python3"
  },
  "language_info": {
   "codemirror_mode": {
    "name": "ipython",
    "version": 3
   },
   "file_extension": ".py",
   "mimetype": "text/x-python",
   "name": "python",
   "nbconvert_exporter": "python",
   "pygments_lexer": "ipython3",
   "version": "3.7.10"
  }
 },
 "nbformat": 4,
 "nbformat_minor": 5
}
